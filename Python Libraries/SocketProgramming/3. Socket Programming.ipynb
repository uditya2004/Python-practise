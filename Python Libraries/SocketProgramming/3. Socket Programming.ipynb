{
 "cells": [
  {
   "cell_type": "code",
   "execution_count": null,
   "metadata": {},
   "outputs": [],
   "source": [
    "import socket \n",
    "\n",
    "s = socket.socket(socket.AF_INET, socket.SOCK_STREAM)\n",
    "\n",
    "# AF_INET :- the socket will use IPv4\n",
    "# SOCK_STREAM:- the socket will use TCP protocol"
   ]
  },
  {
   "cell_type": "markdown",
   "metadata": {},
   "source": [
    "- You can also find the IP using python"
   ]
  },
  {
   "cell_type": "code",
   "execution_count": 1,
   "metadata": {},
   "outputs": [
    {
     "name": "stdout",
     "output_type": "stream",
     "text": [
      "142.250.70.36\n"
     ]
    }
   ],
   "source": [
    "import socket  \n",
    "ip = socket.gethostbyname('www.google.com') \n",
    "print(ip)"
   ]
  },
  {
   "cell_type": "markdown",
   "metadata": {},
   "source": [
    "### An example script to connect to Google using socket"
   ]
  },
  {
   "cell_type": "code",
   "execution_count": 2,
   "metadata": {},
   "outputs": [
    {
     "name": "stdout",
     "output_type": "stream",
     "text": [
      "Socket successfully created\n",
      "the socket has successfully connected to google\n"
     ]
    }
   ],
   "source": [
    "import socket # for socket\n",
    "import sys \n",
    "\n",
    "# Creating a socket\n",
    "try: \n",
    "    s = socket.socket(socket.AF_INET, socket.SOCK_STREAM) \n",
    "    print (\"Socket successfully created\") \n",
    "except socket.error as err: \n",
    "    print (f\"socket creation failed with error {err}\")\n",
    "\n",
    "\n",
    "# default port for socket \n",
    "port = 80 \n",
    "\n",
    "# Getting the ip of \"google.com\"\n",
    "try: \n",
    "    host_ip = socket.gethostbyname('www.google.com') \n",
    "\n",
    "except socket.gaierror:        # gaierror:- Get address info error\n",
    "    # this means could not resolve the host \n",
    "    print (\"there was an error resolving the host\") \n",
    "    sys.exit()                 # Used to terminate the program\n",
    "\n",
    "\n",
    "# connecting to the server \n",
    "s.connect((host_ip, port)) \n",
    "print (\"the socket has successfully connected to google\")"
   ]
  },
  {
   "cell_type": "markdown",
   "metadata": {},
   "source": [
    "### A simple server-client program : "
   ]
  },
  {
   "cell_type": "markdown",
   "metadata": {},
   "source": [
    " **Ports:-**\n",
    "- The IP address is the street address of the house.\n",
    "- The ports are the doors that let people in for specific purposes.\n",
    "    - One door might be for deliveries (web traffic).\n",
    "    - Another door might be for friends (file sharing).\n",
    "    - Another door might be for security staff (remote access).\n",
    "\n",
    "**Why Use Ports?**\n",
    "- Your computer might run multiple programs (like a browser, a game, and a file-sharing service) at the same time.\n",
    "- Ports help the computer know which program should handle incoming network traffic.\n",
    "\n",
    "**Range of Port Numbers:**\n",
    "\n",
    "- Port numbers range from 0 to 65535.\n",
    "- Ports 0–1023: Reserved for well-known services (e.g., HTTP, FTP).\n",
    "- Ports 1024–65535: Used for custom services or applications.  \n",
    "**------------------------------------------**"
   ]
  },
  {
   "cell_type": "markdown",
   "metadata": {},
   "source": [
    "**SERVER SIDE PROGRAM**\n",
    "- In this code, we are creating our own server. This server listens for incoming requests from other devices or computers on the network.\n",
    "- The server listens on a specific port (e.g., 12444) for incoming connections.\n"
   ]
  },
  {
   "cell_type": "code",
   "execution_count": null,
   "metadata": {},
   "outputs": [
    {
     "name": "stdout",
     "output_type": "stream",
     "text": [
      "Socket successfully created\n",
      "Socket binded to 12444\n",
      "Socket is listening\n"
     ]
    }
   ],
   "source": [
    "import socket  # import the socket library\n",
    "\n",
    "# Create a socket object\n",
    "s = socket.socket()\n",
    "print(\"Socket successfully created\")\n",
    "\n",
    "# Reserve a port on your computer; in this case, it is 12345, but it can be anything\n",
    "port = 12444\n",
    "\n",
    "# Bind the socket to the port\n",
    "# Passing an empty string ('') as the IP means, \"Accept connections from any computer on this network.\"\n",
    "s.bind(('', port))\n",
    "print(f\"Socket binded to {port}\")\n",
    "\n",
    "# Put the socket into listening mode\n",
    "# The number 5 here means that up to 5 clients can \"wait in line\" if the server is busy. If a 6th client tries to connect, they’ll get an error.\n",
    "s.listen(5)\n",
    "print(\"Socket is listening\")\n",
    "\n",
    "# A forever loop until we interrupt it or an error occurs\n",
    "# A while loop to start accepting all incoming connections and close those connections after a thank you message to all connected sockets.\n",
    "while True:\n",
    "    # Establish connection with client\n",
    "    c, addr = s.accept()           # c= socket object , addr = (Host Address, Port)  \n",
    "    print('Got connection from', addr)\n",
    "    \n",
    "    # Send a thank you message to the client. Encoding to send byte type\n",
    "    c.send('Thank you for connecting'.encode())\n",
    "    \n",
    "    # Close the connection with the client\n",
    "    c.close()\n",
    "    \n",
    "    # Breaking once connection closed\n",
    "    break\n",
    "\n",
    "\"\"\"\n",
    "- s.accept() returns:-\n",
    "    - socket object:- \n",
    "        - This is a new socket object created specifically for communicating with the connected client.\n",
    "        - The server uses this socket to send and receive data from the client.\n",
    "    - Address Info (Host Address, Port)\n",
    "\n",
    "  \n",
    "- s.bind():-\n",
    "    Imagine you're hosting an event:\n",
    "    - You need to tell people where to find you.\n",
    "        - IP Address: Like saying \"I’ll be at my house\" or \"I’ll be at the community center.\"\n",
    "        - Port: Like saying \"Come through the front door\" or \"Use the side entrance.\"  \n",
    "          \n",
    "    By calling bind(), you're telling the server:\n",
    "    - \"Here’s my address and door where I’ll accept requests.\"\n",
    "\"\"\""
   ]
  },
  {
   "cell_type": "markdown",
   "metadata": {},
   "source": [
    "**CLIENT SIDE PROGRAM**  \n",
    "  \n",
    "***Method - 1:- Use python script*** "
   ]
  },
  {
   "cell_type": "code",
   "execution_count": null,
   "metadata": {},
   "outputs": [
    {
     "name": "stdout",
     "output_type": "stream",
     "text": [
      "Connected to server at 127.0.0.1:12345\n"
     ]
    }
   ],
   "source": [
    "# Import the socket library\n",
    "import socket\n",
    "\n",
    "# Create a socket object\n",
    "client_socket = socket.socket()\n",
    "\n",
    "# Define the server's IP address and port\n",
    "server_ip = '127.0.0.1'  # If both programs are running on the same computer, use '127.0.0.1' (the localhost address).\n",
    "port = 12345\n",
    "\n",
    "# Connect to the server\n",
    "client_socket.connect((server_ip, port))\n",
    "print(f\"Connected to server at {server_ip}:{port}\")\n",
    "\n",
    "# Receive data from the server (1024 bytes at a time)\n",
    "message = client_socket.recv(1024).decode()\n",
    "print(f\"Message from server: {message}\")\n",
    "\n",
    "# Close the connection\n",
    "client_socket.close()\n"
   ]
  },
  {
   "cell_type": "markdown",
   "metadata": {},
   "source": [
    "**Method - 2:- Or Using terminal to connect to the server:-**\n",
    "\n",
    "- In one terminal run the python script having server side code :- ***python test.py***. Example below:-  \n",
    "    PS C:\\Users\\ukudi\\Desktop\\Coding\\Python practise> python test.py  \n",
    "    Socket successfully created  \n",
    "    Socket binded to 12444  \n",
    "    Socket is listening  \n",
    "    Got connection from ('127.0.0.1', 52218)  \n",
    "    PS C:\\Users\\ukudi\\Desktop\\Coding\\Python practise>  \n",
    "    <br>   \n",
    "\n",
    "- In Another terminal run :- ***telnet localhost {port}*** . Example below:-   \n",
    "PS C:\\Users\\ukudi\\Desktop\\Coding\\Python practise> telnet localhost 12444"
   ]
  }
 ],
 "metadata": {
  "kernelspec": {
   "display_name": "Python 3",
   "language": "python",
   "name": "python3"
  },
  "language_info": {
   "codemirror_mode": {
    "name": "ipython",
    "version": 3
   },
   "file_extension": ".py",
   "mimetype": "text/x-python",
   "name": "python",
   "nbconvert_exporter": "python",
   "pygments_lexer": "ipython3",
   "version": "3.11.9"
  }
 },
 "nbformat": 4,
 "nbformat_minor": 2
}

{
 "cells": [
  {
   "cell_type": "markdown",
   "metadata": {},
   "source": [
    "## Making a Basic Request"
   ]
  },
  {
   "cell_type": "code",
   "execution_count": null,
   "metadata": {},
   "outputs": [],
   "source": [
    "import requests\n",
    "\n",
    "# URL of the web server\n",
    "url = \"https://www.python.org\"\n",
    "\n",
    "# Sending a GET request to fetch the web page\n",
    "response = requests.get(url)\n",
    "\n",
    "# Checking the status of the request\n",
    "if response.status_code == 200:\n",
    "    print(\"Page fetched successfully!\")\n",
    "    print(response.text)  # Display the HTML content\n",
    "else:\n",
    "    print(f\"Failed to fetch the page. Status code: {response.status_code}\")\n"
   ]
  },
  {
   "cell_type": "markdown",
   "metadata": {},
   "source": [
    "## Running HTML-Based Queries"
   ]
  },
  {
   "cell_type": "code",
   "execution_count": 2,
   "metadata": {},
   "outputs": [
    {
     "name": "stdout",
     "output_type": "stream",
     "text": [
      "Page Title: YouTube\n",
      "Link: /\n",
      "Link: /\n",
      "Link: https://www.youtube.com/about/\n",
      "Link: https://www.youtube.com/about/press/\n",
      "Link: https://www.youtube.com/about/copyright/\n",
      "Link: /t/contact_us/\n",
      "Link: https://www.youtube.com/creators/\n",
      "Link: https://www.youtube.com/ads/\n",
      "Link: https://developers.google.com/youtube\n",
      "Link: /t/terms\n",
      "Link: /t/privacy\n",
      "Link: https://www.youtube.com/about/policies/\n",
      "Link: https://www.youtube.com/howyoutubeworks?utm_campaign=ytgen&utm_source=ythp&utm_medium=LeftNav&utm_content=txt&u=https%3A%2F%2Fwww.youtube.com%2Fhowyoutubeworks%3Futm_source%3Dythp%26utm_medium%3DLeftNav%26utm_campaign%3Dytgen\n",
      "Link: /new\n"
     ]
    }
   ],
   "source": [
    "from bs4 import BeautifulSoup\n",
    "import requests\n",
    "\n",
    "# Fetch the web page\n",
    "url = \"http://youtube.com\"\n",
    "response = requests.get(url)\n",
    "\n",
    "# Check if the request was successful\n",
    "if response.status_code == 200:\n",
    "    # Parse the HTML content\n",
    "    soup = BeautifulSoup(response.text, 'html.parser')\n",
    "    \n",
    "    # Example queries:\n",
    "    # 1. Find the title of the page\n",
    "    title = soup.title.string\n",
    "    print(\"Page Title:\", title)\n",
    "    \n",
    "    # 2. Find all links on the page\n",
    "    links = soup.find_all('a')  # It returns a list of all <a> elements. like [<a href=\"http://example.com/page1\">Link to Page 1</a>, <a href=\"http://example.com/page2\">Link to Page 2</a>,]\n",
    "    for link in links:\n",
    "        print(\"Link:\", link.get('href'))  # Get the 'href' attribute (URL)\n",
    "    \n",
    "    # 3. Find all headings (h1, h2, etc.)\n",
    "    headings = soup.find_all(['h1', 'h2', 'h3'])\n",
    "    for heading in headings:\n",
    "        print(f\"Heading ({heading.name}):\", heading.text)\n",
    "else:\n",
    "    print(f\"Failed to fetch the page. Status code: {response.status_code}\")\n"
   ]
  },
  {
   "cell_type": "markdown",
   "metadata": {},
   "source": [
    "## Downloading the webpage"
   ]
  },
  {
   "cell_type": "code",
   "execution_count": 3,
   "metadata": {},
   "outputs": [
    {
     "name": "stdout",
     "output_type": "stream",
     "text": [
      "Webpage downloaded successfully and saved as 'downloaded_page.html'\n"
     ]
    }
   ],
   "source": [
    "import requests\n",
    "\n",
    "# Step 1: Define the URL of the webpage\n",
    "url = \"https://meetbikhani.vercel.app/\"\n",
    "\n",
    "# Step 2: Send a GET request to fetch the content\n",
    "response = requests.get(url)\n",
    "\n",
    "# Step 3: Check if the request was successful\n",
    "if response.status_code == 200:\n",
    "    # Step 4: Save the HTML content to a file\n",
    "    with open(\"downloaded_page.html\", \"w\", encoding=\"utf-8\") as file:\n",
    "        file.write(response.text)\n",
    "    print(\"Webpage downloaded successfully and saved as 'downloaded_page.html'\")\n",
    "else:\n",
    "    print(f\"Failed to fetch the page. Status code: {response.status_code}\")\n"
   ]
  }
 ],
 "metadata": {
  "kernelspec": {
   "display_name": "Python 3",
   "language": "python",
   "name": "python3"
  },
  "language_info": {
   "codemirror_mode": {
    "name": "ipython",
    "version": 3
   },
   "file_extension": ".py",
   "mimetype": "text/x-python",
   "name": "python",
   "nbconvert_exporter": "python",
   "pygments_lexer": "ipython3",
   "version": "3.11.9"
  }
 },
 "nbformat": 4,
 "nbformat_minor": 2
}

{
 "cells": [
  {
   "cell_type": "markdown",
   "metadata": {},
   "source": []
  },
  {
   "cell_type": "code",
   "execution_count": 3,
   "metadata": {},
   "outputs": [],
   "source": [
    "import tkinter as tk\n",
    "tk._test()   # To test if everything is working as it should"
   ]
  },
  {
   "cell_type": "markdown",
   "metadata": {},
   "source": [
    "Note:- For adding a widget (like button, lable etc), don't forget to explicitly add it to the window"
   ]
  },
  {
   "cell_type": "markdown",
   "metadata": {},
   "source": [
    "## Basic Tkinter code"
   ]
  },
  {
   "cell_type": "code",
   "execution_count": null,
   "metadata": {},
   "outputs": [],
   "source": [
    "import tkinter as tk\n",
    "\n",
    "root = tk.Tk()            # initializing main window named \"root\"\n",
    "root.title(\"Simple App\")  # Adding title on the app\n",
    "\n",
    "def on_click():\n",
    "    lbl.config(text= \"Button Clicked\")\n",
    "\n",
    "lbl = tk.Label(root, text= \"Label 1\")      # Adding a lable\n",
    "lbl.grid(row=0, column=0)\n",
    "\n",
    "# print(lbl.config().keys())  # method to see all the possibility on what we can change in any widget\n",
    "\n",
    "btn = tk.Button(root, text= \"Button 1\", command= on_click)     # A button to a parent window \"root\"\n",
    "btn.grid(row=0, column= 1)                  # Explicitly adding to the window\n",
    "\n",
    "root.mainloop()    # To keep the window open\n"
   ]
  },
  {
   "cell_type": "markdown",
   "metadata": {},
   "source": [
    "## Making Form Using Tkinter"
   ]
  },
  {
   "cell_type": "markdown",
   "metadata": {},
   "source": [
    "**Notes**\n",
    "- Frame is a container of other widgets, help us better organize the complex layouts\n",
    "    - Frame has it's own layout\n",
    "\n",
    "- tk.Entry() to add a input field box\n",
    "- tk.Button() to add a button\n",
    "- .grid() to manage the grid layout (divided into rows and columns)\n",
    "- The .bind() method in Tkinter is used to connect an event (like a key press mouse click, etc.) to a function or method. When the specified event occurs, the bound function is called."
   ]
  },
  {
   "cell_type": "code",
   "execution_count": 11,
   "metadata": {},
   "outputs": [],
   "source": [
    "import tkinter as tk\n",
    "from tkinter import ttk                   # To give a native \"Theme\" (replace \"tk.\" to \"ttk.\")\n",
    "\n",
    "root = tk.Tk()\n",
    "root.title(\"Simple App\")\n",
    "\n",
    "def add_to_list(event = None):\n",
    "    text = entry.get()                    # Getting the text which is in the input box field\n",
    "    if text:                              # If the input field is not empty\n",
    "        text_list.insert(tk.END, text)    # insert \"text\" at the END of the content of that widget\n",
    "        \n",
    "        #Delete the text in input box from the beginning, all the way to the end \n",
    "        entry.delete(0,tk.END)            # When the user click the add button , we want the input field box to be cleared automatically , so user can enter new value\n",
    "\n",
    "# To make it take up the space when we resize the window\n",
    "root.columnconfigure(0, weight=1)\n",
    "root.rowconfigure(0, weight=1)\n",
    "\n",
    "frame = ttk.Frame(root)\n",
    "frame.grid(row=0, column=0, sticky= \"nsew\", padx=10, pady=10)\n",
    "\n",
    "frame.columnconfigure(0, weight=1)   #1st column can expand on resizing\n",
    "frame.rowconfigure(1, weight=1)\n",
    "\n",
    "entry = ttk.Entry(frame)         \n",
    "entry.grid(row = 0, column=0, sticky=\"ew\")\n",
    "\n",
    "# As entry.bind passes the event argument to the function by default , that's why we added a parameter (event = None) to add_to_list function\n",
    "entry.bind(\"<Return>\", add_to_list)   # When the user press \"Enter\", it act a entry_btn click now\n",
    "\n",
    "entry_btn = ttk.Button(frame, text=\"Add\", command=add_to_list)\n",
    "entry_btn.grid(row = 0, column=1)\n",
    "\n",
    "text_list = tk.Listbox(frame)\n",
    "text_list.grid(row = 1, column=0, columnspan=2, sticky=\"nsew\")   #columnspan = 2 , means expand yourself to  ### sticky=\"ew\" in Tkinter makes the widget stretch to fill the entire width of its grid cell\n",
    "\n",
    "root.mainloop()"
   ]
  }
 ],
 "metadata": {
  "kernelspec": {
   "display_name": "Python 3",
   "language": "python",
   "name": "python3"
  },
  "language_info": {
   "codemirror_mode": {
    "name": "ipython",
    "version": 3
   },
   "file_extension": ".py",
   "mimetype": "text/x-python",
   "name": "python",
   "nbconvert_exporter": "python",
   "pygments_lexer": "ipython3",
   "version": "3.11.9"
  }
 },
 "nbformat": 4,
 "nbformat_minor": 2
}

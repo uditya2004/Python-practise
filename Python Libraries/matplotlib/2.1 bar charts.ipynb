{
 "cells": [
  {
   "cell_type": "markdown",
   "metadata": {},
   "source": [
    "### 1. For creating a single bar chart"
   ]
  },
  {
   "cell_type": "markdown",
   "metadata": {},
   "source": [
    "\n",
    "Note:- \n",
    "- We can overlay multiple type of charts (like bar charts, line charts etc.) on one another \n",
    "- when plotting data the x axis and y axis data must have the same length.\n"
   ]
  },
  {
   "cell_type": "code",
   "execution_count": null,
   "metadata": {},
   "outputs": [],
   "source": [
    "from matplotlib import pyplot as plt"
   ]
  },
  {
   "cell_type": "code",
   "execution_count": null,
   "metadata": {},
   "outputs": [],
   "source": [
    "plt.style.use(\"fivethirtyeight\")\n",
    "\n",
    "# Ages 18 to 55\n",
    "ages_x = [25, 26, 27, 28, 29, 30, 31, 32, 33, 34, 35]     \n",
    "\n",
    "\n",
    "# Median All Developer Salaries by Age\n",
    "dev_y = [38496, 42000, 46752, 49320, 53200, 56000, 62316, 64928, 67317, 68748, 73752]\n",
    "plt.bar(ages_x, dev_y, color= \"#444444\", label = \"All Devs\")\n",
    "\n",
    "#---------------------------------\n",
    "#FORMATTING\n",
    "\n",
    "#Labeling X and Y axis\n",
    "plt.xlabel(\"Ages\")\n",
    "plt.ylabel(\"Median Salary (USD)\")\n",
    "\n",
    "#Adding title to the plot\n",
    "plt.title(\"Median salary (USD) by age\")       \n",
    "\n",
    "#Adding Legend to the plot\n",
    "plt.legend()\n",
    "\n",
    "#Adding Grids to the graph background\n",
    "plt.grid(True)           \n",
    "\n",
    "#-------------------\n",
    "plt.show()"
   ]
  },
  {
   "cell_type": "markdown",
   "metadata": {},
   "source": [
    "### 2. For plotting multiple bar charts side by side"
   ]
  },
  {
   "cell_type": "code",
   "execution_count": null,
   "metadata": {},
   "outputs": [],
   "source": [
    "import numpy as np\n",
    "from matplotlib import pyplot as plt"
   ]
  },
  {
   "cell_type": "code",
   "execution_count": null,
   "metadata": {},
   "outputs": [],
   "source": [
    "plt.style.use(\"fivethirtyeight\")\n",
    "\n",
    "# Ages 18 to 55\n",
    "ages_x = [25, 26, 27, 28, 29, 30, 31, 32, 33, 34, 35]     \n",
    "\n",
    "\n",
    "x_indexes = np.arange(len(ages_x))\n",
    "width = 0.25\n",
    "\n",
    "\n",
    "# Median All Developer Salaries by Age\n",
    "dev_y = [38496, 42000, 46752, 49320, 53200, 56000, 62316, 64928, 67317, 68748, 73752]\n",
    "plt.bar(x_indexes - width, dev_y, width = width, color= \"#444444\", linestyle= \"-\" , label = \"All Devs\")\n",
    "\n",
    "# Median Python Developer Salaries by Age\n",
    "py_dev_y = [45372, 48876, 53850, 57287, 63016, 65998, 70003, 70000, 71496, 75370, 83640]\n",
    "plt.bar(x_indexes, py_dev_y, width = width, color= \"#5a7d9a\", linewidth= 3 ,linestyle= \"-\", label = \"Python\")\n",
    "\n",
    "\n",
    "# Median JavaScript Developer Salaries by Age\n",
    "js_dev_y = [37810, 43515, 46823, 49293, 53437, 56373, 62375, 66674, 68745, 68746, 74583]\n",
    "plt.bar(x_indexes + width, js_dev_y, width = width, color= \"#adad3b\", label = \"JavaScript\")\n",
    "\n",
    "\n",
    "#---------------------------------\n",
    "#FORMATTING\n",
    "\n",
    "#Labeling X and Y axis\n",
    "plt.xlabel(\"Ages\")\n",
    "plt.ylabel(\"Median Salary (USD)\")\n",
    "\n",
    "# Correcting the x axis numbering (without it , it is using \"indexes\" instead of ages)\n",
    "plt.xticks(ticks= x_indexes, labels=ages_x)\n",
    "\n",
    "#Adding title to the plot\n",
    "plt.title(\"Median salary (USD) by age\")       \n",
    "\n",
    "#Adding Legend to the plot\n",
    "plt.legend()\n",
    "\n",
    "#Adding Grids to the graph background\n",
    "plt.grid(True)           \n",
    "\n",
    "#-------------------\n",
    "plt.show() "
   ]
  },
  {
   "cell_type": "markdown",
   "metadata": {},
   "source": [
    "### 3. Importing Data From CSV and Ploting \"Horizontal\" bar graphs\n",
    "- ***Note:-*** If you have to plot a lot of data for a bar chart , nice to use a horizontal bar instead of vertical"
   ]
  },
  {
   "cell_type": "markdown",
   "metadata": {},
   "source": [
    "1. ***Method - 1 :- Import data Using CSV module***"
   ]
  },
  {
   "cell_type": "code",
   "execution_count": null,
   "metadata": {},
   "outputs": [],
   "source": [
    "import csv\n",
    "from collections import Counter   # to count the occurance of each Language in the csv data\n",
    "from matplotlib import pyplot as plt"
   ]
  },
  {
   "cell_type": "code",
   "execution_count": null,
   "metadata": {},
   "outputs": [],
   "source": [
    "plt.style.use(\"fivethirtyeight\")\n",
    "\n",
    "#---------------------------------\n",
    "# 1. Reading and Organising the data before we plot it\n",
    "with open(\"data.csv\") as csv_file:\n",
    "    csv_reader = csv.DictReader(csv_file)       #Reading file as dictionary\n",
    "\n",
    "    language_counter = Counter()                #It will help us count the occurance of each language in complete data\n",
    "\n",
    "    # We will create a dictionary named \"language_counter\", with key = \"languages\" , value = \"count of occurance in the complete data\"\n",
    "    for row in csv_reader:                      #Iterating through each row\n",
    "                            \n",
    "        language_counter.update(row[\"LanguagesWorkedWith\"].split(\";\"))       \n",
    "\n",
    "\n",
    "#Now separating \"languages\" and \"count \" into separate list , so we can make it x and y axis of graph\n",
    "languages = []\n",
    "popularity = []\n",
    "\n",
    "for item in language_counter.most_common(15):        #We want most common 15 languages only from complete data \n",
    "    languages.append(item[0])\n",
    "    popularity.append(item[1])\n",
    "\n",
    "\n",
    "#-------------------------------\n",
    "# 2. Plotting the data\n",
    "\n",
    "#Reversing the data \n",
    "languages.reverse()\n",
    "popularity.reverse()\n",
    "\n",
    "plt.barh(languages, popularity, label = \"All languages\")\n",
    "\n",
    "\n",
    "#---------------------------------\n",
    "# 3. FORMATTING\n",
    "\n",
    "#Labeling X and Y axis\n",
    "plt.xlabel(\"Number of people who use\")\n",
    "# plt.ylabel(\"languages\")\n",
    "\n",
    "#Adding title to the plot\n",
    "plt.title(\"Most Popular Languages\")       \n",
    "\n",
    "#Adding Legend to the plot\n",
    "plt.legend()\n",
    "\n",
    "#Adding Grids to the graph background\n",
    "plt.grid(True)           \n",
    "\n",
    "#It will compress the graph into smaller size\n",
    "plt.tight_layout()\n",
    "\n",
    "#-------------------\n",
    "plt.show()        "
   ]
  },
  {
   "cell_type": "markdown",
   "metadata": {},
   "source": [
    "***2. Method 2:- Using Pandas to Load the CSV***"
   ]
  },
  {
   "cell_type": "code",
   "execution_count": null,
   "metadata": {},
   "outputs": [],
   "source": []
  }
 ],
 "metadata": {
  "kernelspec": {
   "display_name": "Python 3",
   "language": "python",
   "name": "python3"
  },
  "language_info": {
   "codemirror_mode": {
    "name": "ipython",
    "version": 3
   },
   "file_extension": ".py",
   "mimetype": "text/x-python",
   "name": "python",
   "nbconvert_exporter": "python",
   "pygments_lexer": "ipython3",
   "version": "3.11.9"
  }
 },
 "nbformat": 4,
 "nbformat_minor": 2
}

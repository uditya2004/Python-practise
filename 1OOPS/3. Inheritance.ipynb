{
 "cells": [
  {
   "cell_type": "markdown",
   "metadata": {},
   "source": [
    "### Basics"
   ]
  },
  {
   "cell_type": "code",
   "execution_count": null,
   "metadata": {},
   "outputs": [],
   "source": [
    "class Restaurant:\n",
    "    def __init__(self, restaurant_name, cuisine_type):\n",
    "        self.name=restaurant_name\n",
    "        self.food_style=cuisine_type\n",
    "    \n",
    "    def describe_restaurant(self):\n",
    "        print(f\"Restaurant name: {self.name} \\nFood style: {self.food_style}\")\n",
    "    \n",
    "    def open_restaurant(self):\n",
    "        print(\"Restaurant is OPEN\")\n",
    "\n",
    "class IceCreamStand(Restaurant):\n",
    "    def __init__(self, restaurant_name, cuisine_type):\n",
    "        super().__init__(restaurant_name, cuisine_type)\n",
    "        self.Flavours= [\"chocolate\", \"vanilla\", \"strawberry\"]\n",
    "\n",
    "    def display(self):\n",
    "        print(f\"Here are all the flaours {self.Flavours}\")\n",
    "\n",
    "x=IceCreamStand(\"Vadilal\" , \"icecream\")\n",
    "x.display()\n"
   ]
  },
  {
   "cell_type": "code",
   "execution_count": null,
   "metadata": {},
   "outputs": [],
   "source": [
    "class Person: #PARENT CLASS\n",
    "    def __init__(self, fname, lname):  \n",
    "        self.first_name=fname\n",
    "        self.last_name=lname\n",
    "    \n",
    "    def printname(self):\n",
    "        print(f\"A person of name {self.first_name} {self.last_name}\")\n",
    "\n",
    "\n",
    "class Student(Person):  #CHILD CLASS (every student is a person. Extra feature -> the person having graduation year is a student.)\n",
    "    def __init__(self,fname,lname,year):\n",
    "        super().__init__(fname,lname) # after using super(), child class can use all the properties and method of parent class\n",
    "        self.GradYear=year\n",
    "    \n",
    "    def welcome(self):\n",
    "        print(f\"Welcome {self.first_name} {self.last_name} to the {self.GradYear} batch\")\n",
    "\n",
    "x=Person(\"uditya\", \"kumar\")\n",
    "x.printname()\n",
    "\n",
    "y=Student(\"adi\",\"pandey\",1997)\n",
    "y.welcome()\n",
    "\n",
    "z=Student(\"Yuvi\", \"Yadav\" , 2024)\n",
    "z.welcome()"
   ]
  },
  {
   "cell_type": "markdown",
   "metadata": {},
   "source": [
    "### BREAKING CLASSES INTO SEPARATE CLASSES"
   ]
  },
  {
   "cell_type": "code",
   "execution_count": null,
   "metadata": {},
   "outputs": [],
   "source": [
    "class User:\n",
    "    def __init__(self, first_name, last_name, device, browser):\n",
    "        self.fname=first_name\n",
    "        self.lname=last_name\n",
    "        self.device=device\n",
    "        self.browser=browser\n",
    "\n",
    "    def describe_user(self):\n",
    "        print(f\"user {self.fname} {self.lname} uses {self.device} and browser is {self.browser}\")\n",
    "    \n",
    "    def  greet_user(self):\n",
    "        print(f\"Have a happy browsing {self.fname} {self.lname}\")\n",
    "\n",
    "class Privileges:\n",
    "    def __init__(self):\n",
    "        self.privileges = [\"can add post\", \"can delete post\", \"can ban user\", \"react on a post\"]\n",
    "\n",
    "    def show_privileges(self):\n",
    "        print(f\"Here are all the privileges to a user: {self.privileges}\")\n",
    "\n",
    "class Admin(User):\n",
    "    def __init__(self, first_name, last_name, device, browser):\n",
    "        super().__init__(first_name, last_name, device, browser)\n",
    "        self.privileges = Privileges()  # Dviding one class into multiple separate classes\n",
    "\n",
    "    \n",
    "\n",
    "x=Admin(\"udi\",\"kumar\",\"Apple\",\"safari\")\n",
    "x.privileges.show_privileges()\n",
    "print(x.fname)"
   ]
  },
  {
   "cell_type": "code",
   "execution_count": null,
   "metadata": {},
   "outputs": [],
   "source": [
    "class Car:\n",
    "    \"\"\"A simple attempt to represent a car.\"\"\"\n",
    "    def __init__(self, make, model, year):\n",
    "        self.make = make\n",
    "        self.model = model\n",
    "        self.year = year\n",
    "        self.odometer_reading = 0\n",
    "\n",
    "    def get_descriptive_name(self):\n",
    "        long_name = f\"{self.year} {self.manufacturer} {self.model}\"\n",
    "        return long_name.title()\n",
    "    \n",
    "    def read_odometer(self):\n",
    "        print(f\"This car has {self.odometer_reading} miles on it.\")\n",
    "\n",
    "    def update_odometer(self, mileage):\n",
    "        if mileage >= self.odometer_reading:\n",
    "            self.odometer_reading = mileage\n",
    "        else:\n",
    "            print(\"You can't roll back an odometer!\")\n",
    "\n",
    "    def increment_odometer(self, miles):\n",
    "        self.odometer_reading += miles\n",
    "\n",
    "class Battery:\n",
    "    def __init__(self, battery_size=75):\n",
    "        self.battery_size = battery_size\n",
    "\n",
    "    def describe_battery(self):\n",
    "        print(f\"This car has a {self.battery_size}-kWh battery.\")\n",
    "    \n",
    "    def get_range(self):\n",
    "        if self.battery_size == 75:\n",
    "            range = 260\n",
    "        elif self.battery_size == 100:\n",
    "            range = 315\n",
    "        print(f\"This car can go about {range} miles on a full charge.\")\n",
    "    \n",
    "    def upgrade_battery(self):\n",
    "        if self.battery_size != 100:\n",
    "            self.battery_size = 100\n",
    "\n",
    "class ElectricCar(Car):\n",
    "    def __init__(self, make, model, year):\n",
    "        super().__init__(make, model, year)\n",
    "        self.battery = Battery()     # <- we break battery portion in another class\n",
    "\n",
    "\n",
    "my_tesla = ElectricCar('tesla', 'model s', 2019)\n",
    "my_tesla.battery.get_range()\n",
    "print(\"I'm upgrading the battery to 100 now.....\")\n",
    "my_tesla.battery.upgrade_battery()\n",
    "my_tesla.battery.get_range()"
   ]
  },
  {
   "cell_type": "markdown",
   "metadata": {},
   "source": [
    "### Types of inheritance:-\n",
    "- Multi-level inheritance\n",
    "- Multiple inheritance\n",
    "- Hierarchical inheritance\n",
    "- hybrid inheritance"
   ]
  },
  {
   "cell_type": "markdown",
   "metadata": {},
   "source": [
    "### Multiple Inheritance"
   ]
  },
  {
   "cell_type": "code",
   "execution_count": null,
   "metadata": {},
   "outputs": [],
   "source": [
    "class A:\n",
    "    varA =\"Welcome to class A\"\n",
    "\n",
    "class B:\n",
    "    varB = \"Welcome to class B\"\n",
    "\n",
    "class C(A,B):   # C inherites properties of both parent A and B\n",
    "    varC = \"Welcome to class C\"\n",
    "\n",
    "x= C()\n",
    "\n",
    "print(x.varC)\n",
    "print(x.varB)\n",
    "print(x.varA)"
   ]
  },
  {
   "cell_type": "markdown",
   "metadata": {},
   "source": [
    "### Multilevel Inheritance\n",
    "- a class is derived from another derived class."
   ]
  },
  {
   "cell_type": "code",
   "execution_count": 2,
   "metadata": {},
   "outputs": [
    {
     "name": "stdout",
     "output_type": "stream",
     "text": [
      "I am in the Universe\n",
      "I am on Earth\n",
      "I am in India\n"
     ]
    }
   ],
   "source": [
    "# parent class\n",
    "class Universe: \n",
    "   def universeMethod(self):\n",
    "      print (\"I am in the Universe\")\n",
    "\n",
    "# child class\n",
    "class Earth(Universe): \n",
    "   def earthMethod(self):\n",
    "      print (\"I am on Earth\")\n",
    "      \n",
    "# another child class\n",
    "class India(Earth): \n",
    "   def indianMethod(self):\n",
    "      print (\"I am in India\")      \n",
    "\n",
    "# creating instance \n",
    "person = India()  \n",
    "# method calls\n",
    "person.universeMethod() \n",
    "person.earthMethod() \n",
    "person.indianMethod() "
   ]
  },
  {
   "cell_type": "markdown",
   "metadata": {},
   "source": [
    "### Hierarchical Inheritance\n",
    "- multiple derived classes that are inherited from a single base class"
   ]
  },
  {
   "cell_type": "code",
   "execution_count": 1,
   "metadata": {},
   "outputs": [
    {
     "name": "stdout",
     "output_type": "stream",
     "text": [
      "I am the Manager\n",
      "I am Employee one\n",
      "I am the Manager\n",
      "I am Employee two\n"
     ]
    }
   ],
   "source": [
    "# parent class\n",
    "class Manager: \n",
    "   def managerMethod(self):\n",
    "      print (\"I am the Manager\")\n",
    "\n",
    "# child class\n",
    "class Employee1(Manager): \n",
    "   def employee1Method(self):\n",
    "      print (\"I am Employee one\")\n",
    "      \n",
    "# second child class\n",
    "class Employee2(Manager): \n",
    "   def employee2Method(self):\n",
    "      print (\"I am Employee two\")      \n",
    "\n",
    "# creating instances \n",
    "emp1 = Employee1()  \n",
    "emp2 = Employee2()\n",
    "\n",
    "# method calls\n",
    "emp1.managerMethod() \n",
    "emp1.employee1Method()\n",
    "emp2.managerMethod() \n",
    "emp2.employee2Method()  "
   ]
  },
  {
   "cell_type": "markdown",
   "metadata": {},
   "source": [
    "### Hybrid Inheritance"
   ]
  },
  {
   "cell_type": "code",
   "execution_count": null,
   "metadata": {},
   "outputs": [],
   "source": [
    "# parent class\n",
    "class CEO: \n",
    "   def ceoMethod(self):\n",
    "      print (\"I am the CEO\")\n",
    "      \n",
    "class Manager(CEO): \n",
    "   def managerMethod(self):\n",
    "      print (\"I am the Manager\")\n",
    "\n",
    "class Employee1(Manager): \n",
    "   def employee1Method(self):\n",
    "      print (\"I am Employee one\")\n",
    "      \n",
    "class Employee2(Manager, CEO): \n",
    "   def employee2Method(self):\n",
    "      print (\"I am Employee two\")      \n",
    "\n",
    "# creating instances \n",
    "emp = Employee2()\n",
    "# method calls\n",
    "emp.managerMethod() \n",
    "emp.ceoMethod()\n",
    "emp.employee2Method()"
   ]
  }
 ],
 "metadata": {
  "kernelspec": {
   "display_name": "Python 3",
   "language": "python",
   "name": "python3"
  },
  "language_info": {
   "codemirror_mode": {
    "name": "ipython",
    "version": 3
   },
   "file_extension": ".py",
   "mimetype": "text/x-python",
   "name": "python",
   "nbconvert_exporter": "python",
   "pygments_lexer": "ipython3",
   "version": "3.11.9"
  }
 },
 "nbformat": 4,
 "nbformat_minor": 2
}

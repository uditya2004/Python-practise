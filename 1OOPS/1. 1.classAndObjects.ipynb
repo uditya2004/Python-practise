{
 "cells": [
  {
   "cell_type": "markdown",
   "metadata": {},
   "source": [
    "Naming conventions:\n",
    "1. object or instance =  (eg : x,y,z in code below)\n",
    "2. Attribute = Instance variable  (self.name)\n",
    "3. method -> open_restaurent , __init__ , describe_ restaurent\n",
    "4. __init__ = special method called \"constructor\"\n",
    "5.  Class variable -> (wheel)\n",
    "\n",
    "6. Shared State = for \"x\", \"y\", \"z\" , the class variable \"wheels\" is a shared state"
   ]
  },
  {
   "cell_type": "markdown",
   "metadata": {},
   "source": [
    "### CLASS WITH PROPERTIES AND MULTIPLE METHODS"
   ]
  },
  {
   "cell_type": "code",
   "execution_count": null,
   "metadata": {},
   "outputs": [],
   "source": [
    "class Restaurant:\n",
    "    wheel = 0  # just to explain naming\n",
    "\n",
    "    def __init__(self, restaurant_name, cuisine_type):\n",
    "        self.name=restaurant_name\n",
    "        self.food_style=cuisine_type\n",
    "    \n",
    "    def describe_restaurant(self):\n",
    "        print(f\"Restaurant name: {self.name} \\nFood style: {self.food_style}\")\n",
    "    \n",
    "    def open_restaurant(self):\n",
    "        print(\"Restaurant is OPEN\")\n",
    "\n",
    "#Creating an Instance:\n",
    "x= Restaurant(\"Swada\", \"Indian\")\n",
    "y= Restaurant(\"Dhaba\", \"south\")\n",
    "z= Restaurant(\"Mayuri\", \"East\")\n",
    "\n",
    "# Modifying the class variable\n",
    "Restaurant.wheels = 6\n",
    "\n",
    "#Calling the Method:\n",
    "x.describe_restaurant()\n",
    "y.describe_restaurant()\n",
    "z.describe_restaurant()\n",
    "x.open_restaurant()"
   ]
  },
  {
   "cell_type": "code",
   "execution_count": null,
   "metadata": {},
   "outputs": [],
   "source": [
    "class car:\n",
    "    def __init__(self, make, car_model, year):\n",
    "        self.make=make\n",
    "        self.model=car_model\n",
    "        self.year=year\n",
    "        self.odometer_reading=0\n",
    "    \n",
    "    def update_odometer(self, new_reading):\n",
    "        if new_reading>=self.odometer_reading:\n",
    "            self.odometer_reading = new_reading\n",
    "            print(f\"New reading is {self.odometer_reading}\")\n",
    "        \n",
    "        else:\n",
    "            print(f\"Odometer current reading is {self.odometer_reading}. You can't  roll back.\")\n",
    "    \n",
    "    def increment_odometer(self, new_read):\n",
    "        self.odometer_reading += new_read\n",
    "        print(f\"New reading is {self.odometer_reading}\")\n",
    "\n",
    "\n",
    "\n",
    "x= car(\"Audi\", \"A4\", 2005)\n",
    "print(x.model)\n",
    "x.update_odometer(24)\n",
    "\n",
    "x.increment_odometer(13)"
   ]
  },
  {
   "cell_type": "markdown",
   "metadata": {},
   "source": [
    "### Demonstrate private members"
   ]
  },
  {
   "cell_type": "code",
   "execution_count": null,
   "metadata": {},
   "outputs": [],
   "source": [
    "#Creating a Base class\n",
    "class Base:\n",
    "    def __init__(self):\n",
    "        self.a = \"GeeksforGeeks\"\n",
    "        self.__c = \"GeeksforGeeks\"        #private member (adding double underscore in front of it)\n",
    "\n",
    "\n",
    "# Creating a derived class\n",
    "class Derived(Base):\n",
    "    def __init__(self):\n",
    "        # Calling constructor of Base class\n",
    "        Base.__init__(self)\n",
    "\n",
    "\n",
    "# Driver code\n",
    "obj2 = Derived()\n",
    "print(\"Here ->\", obj2.__c)      #cannot be accessed as python internally change the name of private member (name mangling) by adding _Base in the name of the member i.e \"_Base__c\"\n",
    "print(\"Here ->\", obj2._Base__c)  #now can be accessed"
   ]
  }
 ],
 "metadata": {
  "kernelspec": {
   "display_name": "Python 3",
   "language": "python",
   "name": "python3"
  },
  "language_info": {
   "name": "python",
   "version": "3.11.9"
  }
 },
 "nbformat": 4,
 "nbformat_minor": 2
}

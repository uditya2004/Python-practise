{
 "cells": [
  {
   "cell_type": "markdown",
   "metadata": {},
   "source": [
    "In polymorphism, we learn:\n",
    "1. operator overiding (eg: changing the meaning of arithmetic operators like +)\n",
    "2. use of dunder functions(functions having \"__\" in there start and end) - \n",
    "\n",
    "Note: Dunder functions are pre defined in python documentation(https://docs.python.org/3/reference/datamodel.html) and have different operations and syntax to operate through them.\n"
   ]
  },
  {
   "cell_type": "markdown",
   "metadata": {},
   "source": [
    "### Operator Overloading"
   ]
  },
  {
   "cell_type": "code",
   "execution_count": null,
   "metadata": {},
   "outputs": [],
   "source": [
    "#EXAMPLE -> Defining a class to perform addition of complex number , which is not present in python by default.\n",
    "\n",
    "class Complex:\n",
    "    def __init__(self, real, img):\n",
    "        self.real= real\n",
    "        self.img= img\n",
    "    \n",
    "    def display(self):\n",
    "        print(f\"{self.real}i + {self.img}j\")\n",
    "    \n",
    "    def __add__(self,otherno):\n",
    "        return (f\"{self.real + otherno.real}i + {self.img + otherno.img}j\")\n",
    "\n",
    "\n",
    "num1= Complex(1,2)\n",
    "num1.display()\n",
    "\n",
    "num2= Complex(3,4)\n",
    "num2.display()\n",
    "\n",
    "print(\"result:- \",num1 + num2)   # Actual working:- Complex.__add__(num1 , num2)"
   ]
  },
  {
   "cell_type": "code",
   "execution_count": null,
   "metadata": {},
   "outputs": [],
   "source": [
    "# Example 2\n",
    "class A:\n",
    "    def __init__(self,a):\n",
    "        self.a = a\n",
    "\n",
    "    def __add__(self,o):\n",
    "        return self.a + o.a\n",
    "\n",
    "obj1 = A(1)\n",
    "obj2 = A(2)\n",
    "obj3 = A(\"Uditya\")\n",
    "obj4 = A(\"Kumar\")\n",
    "\n",
    "print(obj1 + obj2)    # Actual working:- A.__add__(ob1 , ob2)\n",
    "print(obj3 + obj3)"
   ]
  },
  {
   "cell_type": "markdown",
   "metadata": {},
   "source": [
    "### Method Overriding\n",
    "- re-implement the method in the child class"
   ]
  },
  {
   "cell_type": "code",
   "execution_count": null,
   "metadata": {},
   "outputs": [],
   "source": [
    "#Parent Class\n",
    "class Bird:    \n",
    "  def flight(self):\n",
    "    print(\"Most of the birds can fly but some cannot.\")\n",
    "\n",
    "#Derived Class\n",
    "class sparrow(Bird):\n",
    "  def flight(self):    # re-implementing\n",
    "    print(\"Sparrows can fly.\")\n",
    "\n",
    "#Derived Class\n",
    "class ostrich(Bird):\n",
    "  def flight(self):     # re-implementing\n",
    "    print(\"Ostriches cannot fly.\")\n",
    "\n",
    "\n",
    "obj_bird = Bird()\n",
    "obj_spr = sparrow()\n",
    "obj_ost = ostrich()\n",
    "\n",
    "obj_bird.flight()\n",
    "\n",
    "obj_spr.flight()\n",
    "obj_ost.flight()"
   ]
  }
 ],
 "metadata": {
  "kernelspec": {
   "display_name": "Python 3",
   "language": "python",
   "name": "python3"
  },
  "language_info": {
   "name": "python",
   "version": "3.11.9"
  }
 },
 "nbformat": 4,
 "nbformat_minor": 2
}
